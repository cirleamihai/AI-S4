{
 "cells": [
  {
   "attachments": {},
   "cell_type": "markdown",
   "metadata": {},
   "source": [
    "# Lab 8: Evolutionary computation\n",
    "\n",
    "### Consider the following example:\n",
    "\n",
    "Determine the minimum of the function $f(x)= x_1^2+...+x_n^2$ with $x_i \\in [-5.12, 5.12]$, $i \\in \\overline{(1, n)}$\n",
    "\n",
    "We have an example of steady state genetic algorithm with:  representation an array of real numbers; 100 individuals; crossover $$child = \\alpha \\cdot (parent1 - parent2) + parent2 ;$$ mutation - reinitialise on a random position the individual's value."
   ]
  },
  {
   "cell_type": "code",
   "execution_count": 1,
   "metadata": {},
   "outputs": [
    {
     "name": "stdout",
     "output_type": "stream",
     "text": [
      "Result: The detected minimum point after 10000 iterations is f(0.00 0.00) = 0.00\n"
     ]
    }
   ],
   "source": [
    "from random import randint, random\n",
    "from operator import add\n",
    "from math import cos, pi\n",
    "\n",
    "\n",
    "def individual(length, vmin, vmax):\n",
    "    '''\n",
    "    Create a member of the population - an individual\n",
    "\n",
    "    length: the number of genes (components)\n",
    "    vmin: the minimum possible value \n",
    "    vmax: the maximum possible value \n",
    "    '''\n",
    "    return [(random() * (vmax - vmin) + vmin) for x in range(length)]\n",
    "\n",
    "\n",
    "def population(count, length, vmin, vmax):\n",
    "    \"\"\"\n",
    "    Create a number of individuals (i.e. a population).\n",
    "\n",
    "    count: the number of individuals in the population\n",
    "    length: the number of values per individual\n",
    "    vmin: the minimum possible value \n",
    "    vmax: the maximum possible value \n",
    "    \"\"\"\n",
    "    return [individual(length, vmin, vmax) for x in range(count)]\n",
    "\n",
    "\n",
    "def fitness(individual):\n",
    "    \"\"\"\n",
    "    Determine the fitness of an individual. Lower is better.(min problem)\n",
    "    For this problem we have the Rastrigin function\n",
    "    \n",
    "    individual: the individual to evaluate\n",
    "    \"\"\"\n",
    "    n = len(individual)\n",
    "    f = 0;\n",
    "    for i in range(n):\n",
    "        f = f + individual[i] * individual[i]\n",
    "    return f\n",
    "\n",
    "\n",
    "def mutate(individual, pM, vmin, vmax):\n",
    "    '''\n",
    "    Performs a mutation on an individual with the probability of pM.\n",
    "    If the event will take place, at a random position a new value will be\n",
    "    generated in the interval [vmin, vmax]\n",
    "\n",
    "    individual:the individual to be mutated\n",
    "    pM: the probability the mutation to occure\n",
    "    vmin: the minimum possible value \n",
    "    vmax: the maximum possible value\n",
    "    '''\n",
    "    if pM > random():\n",
    "        p = randint(0, len(individual) - 1)\n",
    "        individual[p] = random() * (vmax - vmin) + vmin\n",
    "    return individual\n",
    "\n",
    "\n",
    "def crossover(parent1, parent2):\n",
    "    '''\n",
    "    crossover between 2 parents\n",
    "    '''\n",
    "    child = []\n",
    "    alpha = random()\n",
    "    for x in range(len(parent1)):\n",
    "        child.append(alpha * (parent1[x] - parent2[x]) + parent2[x])\n",
    "    return child\n",
    "\n",
    "\n",
    "def iteration(pop, pM, vmin, vmax):\n",
    "    '''\n",
    "    an iteration\n",
    "\n",
    "    pop: the current population\n",
    "    pM: the probability the mutation to occure\n",
    "    vmin: the minimum possible value \n",
    "    vmax: the maximum possible value\n",
    "    '''\n",
    "    i1 = randint(0, len(pop) - 1)\n",
    "    i2 = randint(0, len(pop) - 1)\n",
    "    if (i1 != i2):\n",
    "        c = crossover(pop[i1], pop[i2])\n",
    "        c = mutate(c, pM, vmin, vmax)\n",
    "        f1 = fitness(pop[i1])\n",
    "        f2 = fitness(pop[i2])\n",
    "        '''\n",
    "        the repeated evaluation of the parents can be avoided\n",
    "        if  next to the values stored in the individuals we \n",
    "        keep also their fitnesses \n",
    "        '''\n",
    "        fc = fitness(c)\n",
    "        if (f1 > f2) and (f1 > fc):\n",
    "            pop[i1] = c\n",
    "        if (f2 > f1) and (f2 > fc):\n",
    "            pop[i2] = c\n",
    "    return pop\n",
    "\n",
    "\n",
    "def main(noIteratii=10000):\n",
    "    #PARAMETERS:\n",
    "\n",
    "    #population size\n",
    "    dimPopulation = 100\n",
    "    #individual size\n",
    "    dimIndividual = 2\n",
    "    #the boundries of the search interval\n",
    "    vmin = -5.12\n",
    "    vmax = 5.12\n",
    "    #the mutation probability\n",
    "    pM = 0.01\n",
    "\n",
    "    P = population(dimPopulation, dimIndividual, vmin, vmax)\n",
    "    for i in range(noIteratii):\n",
    "        P = iteration(P, pM, vmin, vmax)\n",
    "\n",
    "    #print the best individual\n",
    "    graded = [(fitness(x), x) for x in P]\n",
    "    graded = sorted(graded)\n",
    "    result = graded[0]\n",
    "    fitnessOptim = result[0]\n",
    "    individualOptim = result[1]\n",
    "    print('Result: The detected minimum point after %d iterations is f(%3.2f %3.2f) = %3.2f' % \\\n",
    "          (noIteratii, individualOptim[0], individualOptim[1], fitnessOptim))\n",
    "\n",
    "\n",
    "main()"
   ]
  },
  {
   "attachments": {},
   "cell_type": "markdown",
   "metadata": {},
   "source": [
    "Exercise 1:  Construct a similar algorithm to the one provided as an example for the Bukin function N.6 (search the internet for this function).\n"
   ]
  },
  {
   "cell_type": "code",
   "execution_count": 4,
   "metadata": {},
   "outputs": [
    {
     "name": "stdout",
     "output_type": "stream",
     "text": [
      "Result: The detected minimum point is f(-10.33, 1.07) = 0.00\n"
     ]
    }
   ],
   "source": [
    "from random import randint, random\n",
    "import math\n",
    "\n",
    "\n",
    "def individual():\n",
    "    \"\"\"\n",
    "    Create a member of the population - an individual\n",
    "    The range for x is typically set from -15 to -5 and for y from -3 to 3, so we set it like this\n",
    "    \"\"\"\n",
    "    return [(random() * 10 - 15), (random() * 6 - 3)]  # x from -15 to -5, y from -3 to 3\n",
    "\n",
    "\n",
    "def population(count):\n",
    "    \"\"\"\n",
    "    Create a population of individuals.\n",
    "\n",
    "    count: the number of individuals in the population\n",
    "    \"\"\"\n",
    "    return [individual() for _ in range(count)]\n",
    "\n",
    "\n",
    "def fitness(individual):\n",
    "    \"\"\"\n",
    "    Calculate the Bukin function N.6 to determine the fitness of an individual.\n",
    "    Lower is better.\n",
    "    \"\"\"\n",
    "    x, y = individual[0], individual[1]\n",
    "    return 100 * math.sqrt(abs(y - 0.01 * x ** 2)) + 0.01 * abs(x + 10)\n",
    "\n",
    "\n",
    "def mutate(individual, pM):\n",
    "    \"\"\"\n",
    "    Performs a mutation on an individual with the probability pM.\n",
    "    \"\"\"\n",
    "    if random() < pM:\n",
    "        # Mutate either x or y\n",
    "        if randint(0, 1):\n",
    "            individual[0] = random() * 10 - 15  # Mutate x\n",
    "        else:\n",
    "            individual[1] = random() * 6 - 3  # Mutate y\n",
    "    return individual\n",
    "\n",
    "\n",
    "def crossover(parent1, parent2):\n",
    "    \"\"\"\n",
    "    Perform crossover between two parents to create a child.\n",
    "    \"\"\"\n",
    "    child = []\n",
    "    alpha = random()\n",
    "    for i in range(2):\n",
    "        child.append(alpha * (parent1[i] - parent2[i]) + parent2[i])\n",
    "    return child\n",
    "\n",
    "\n",
    "def iteration(pop, pM):\n",
    "    \"\"\"\n",
    "    Perform one iteration of the genetic algorithm: selection, crossover, mutation.\n",
    "    \"\"\"\n",
    "    new_pop = []\n",
    "    while len(new_pop) < len(pop):\n",
    "        i1, i2 = randint(0, len(pop) - 1), randint(0, len(pop) - 1)\n",
    "        if i1 != i2:\n",
    "            parent1, parent2 = pop[i1], pop[i2]\n",
    "            child = crossover(parent1, parent2)\n",
    "            child = mutate(child, pM)\n",
    "            # Replace a parent with the child if the child is better\n",
    "            f1, f2, fc = fitness(parent1), fitness(parent2), fitness(child)\n",
    "            if f1 > fc:\n",
    "                pop[i1] = child\n",
    "            elif f2 > fc:\n",
    "                pop[i2] = child\n",
    "            new_pop.append(child)\n",
    "    return pop\n",
    "\n",
    "\n",
    "def main():\n",
    "    # Parameters\n",
    "    pop_size = 100\n",
    "    num_iterations = 10000\n",
    "    mutation_prob = 0.01\n",
    "\n",
    "    # Initialize population\n",
    "    pop = population(pop_size)\n",
    "\n",
    "    # Run iterations\n",
    "    for _ in range(num_iterations):\n",
    "        pop = iteration(pop, mutation_prob)\n",
    "\n",
    "    # Find the best solution\n",
    "    graded = sorted([(fitness(x), x) for x in pop])\n",
    "    result = graded[0]\n",
    "\n",
    "    print('Result: The detected minimum point is f(%3.2f, %3.2f) = %3.2f' %\n",
    "          (result[1][0], result[1][1], result[0]))\n",
    "\n",
    "\n",
    "main()\n"
   ]
  },
  {
   "attachments": {},
   "cell_type": "markdown",
   "metadata": {},
   "source": [
    "Consider the knapsack problem:\n",
    "\n",
    "Consider a Knapsack with a total volum equal with $V_{max}$.\n",
    "\n",
    "There are $n$ objects, with values $(p_i)_{n}$ and volumes $(v_i)_n$.\n",
    "\n",
    "Solve this problem using a generationist Genetic Algorithm, with a binary representation.\n",
    "\n",
    "Exercise 2: Initialization\n",
    "Objective: Implement the initialization step of a genetic algorithm."
   ]
  },
  {
   "cell_type": "code",
   "execution_count": 5,
   "metadata": {},
   "outputs": [
    {
     "name": "stdout",
     "output_type": "stream",
     "text": [
      "[[1, 1, 1, 0, 0, 0, 1, 0], [1, 1, 1, 1, 0, 0, 0, 1], [1, 1, 1, 0, 1, 1, 0, 0], [1, 1, 0, 0, 0, 1, 1, 0], [1, 1, 1, 1, 1, 1, 1, 1], [0, 0, 1, 0, 0, 1, 0, 1], [1, 0, 0, 1, 1, 0, 0, 1], [0, 0, 1, 0, 0, 0, 0, 0], [0, 0, 1, 1, 0, 1, 0, 0], [0, 1, 1, 1, 1, 1, 0, 0]]\n"
     ]
    }
   ],
   "source": [
    "import random\n",
    "\n",
    "\n",
    "def initialize_population(population_size, chromosome_length):\n",
    "    \"\"\"\n",
    "    Generate a random population of individuals for the genetic algorithm.\n",
    "    Each individual is represented as a binary chromosome of length 'chromosome_length'.\n",
    "    Each bit in the chromosome can be 0 or 1, where 1 means the item is included in the knapsack.\n",
    "\n",
    "    Args:\n",
    "    population_size (int): Number of individuals in the population.\n",
    "    chromosome_length (int): Number of genes in each individual's chromosome (corresponds to the number of items).\n",
    "\n",
    "    Returns:\n",
    "    list of lists: A list containing 'population_size' individuals, each a list of bits of length 'chromosome_length'.\n",
    "    \"\"\"\n",
    "    return [[random.randint(0, 1) for _ in range(chromosome_length)] for _ in range(population_size)]\n",
    "\n",
    "# Test the initialization step\n",
    "population_size = 10\n",
    "chromosome_length = 8\n",
    "population = initialize_population(population_size, chromosome_length)\n",
    "print(population)\n"
   ]
  },
  {
   "attachments": {},
   "cell_type": "markdown",
   "metadata": {},
   "source": [
    "Exercise 3: Fitness Evaluation\n",
    "\n",
    "Objective: Implement the fitness evaluation step of a genetic algorithm."
   ]
  },
  {
   "cell_type": "code",
   "execution_count": 6,
   "metadata": {},
   "outputs": [
    {
     "name": "stdout",
     "output_type": "stream",
     "text": [
      "[4, 5, 5, 4, 8, 3, 4, 1, 3, 5]\n"
     ]
    }
   ],
   "source": [
    "def evaluate_fitness(population):\n",
    "    \"\"\"\n",
    "    Evaluate the fitness of each individual in the population.\n",
    "    :param population: list of individuals (list of lists)\n",
    "    :return: list of fitness scores\n",
    "    \"\"\"\n",
    "    return [sum(chromosome) for chromosome in population]\n",
    "\n",
    "\n",
    "# Test the fitness evaluation step\n",
    "fitness_scores = evaluate_fitness(population)\n",
    "print(fitness_scores)\n"
   ]
  },
  {
   "attachments": {},
   "cell_type": "markdown",
   "metadata": {},
   "source": [
    "Exercise 4: Selection\n",
    "\n",
    "Objective: Implement the selection step of a genetic algorithm."
   ]
  },
  {
   "cell_type": "code",
   "execution_count": 7,
   "metadata": {},
   "outputs": [
    {
     "name": "stdout",
     "output_type": "stream",
     "text": [
      "[[1, 1, 1, 0, 0, 0, 1, 0], [1, 1, 1, 1, 0, 0, 0, 1]]\n"
     ]
    }
   ],
   "source": [
    "def select_parents(population, fitness_scores):\n",
    "    # select two parents from the population based on the fitness -\n",
    "    # the better the fitness, the higher the chance to be selected\n",
    "    return random.choices(population, weights=fitness_scores, k=2)\n",
    "\n",
    "\n",
    "\n",
    "# Test the selection step\n",
    "parents = select_parents(population, fitness_scores)\n",
    "print(parents)\n"
   ]
  },
  {
   "attachments": {},
   "cell_type": "markdown",
   "metadata": {},
   "source": [
    "Exercise 5: Crossover\n",
    "\n",
    "Objective: Implement the crossover step of a genetic algorithm."
   ]
  },
  {
   "cell_type": "code",
   "execution_count": 55,
   "metadata": {},
   "outputs": [
    {
     "name": "stdout",
     "output_type": "stream",
     "text": [
      "[[1, 1, 1, 0, 0, 0, 0, 1], [1, 1, 1, 1, 0, 0, 1, 0]]\n"
     ]
    }
   ],
   "source": [
    "def crossover(parents):\n",
    "    # create two new offspring by combining the parents\n",
    "    # IN:  parents\n",
    "    # OUT: offspring\n",
    "    return [parents[0][:len(parents[0]) // 2] + parents[1][len(parents[1]) // 2:],\n",
    "            parents[1][:len(parents[1]) // 2] + parents[0][len(parents[0]) // 2:]]\n",
    "\n",
    "\n",
    "# your code here\n",
    "\n",
    "# Test the crossover step\n",
    "offspring = crossover(parents)\n",
    "print(offspring)\n"
   ]
  },
  {
   "attachments": {},
   "cell_type": "markdown",
   "metadata": {},
   "source": [
    "Exercise 6: Mutation\n",
    "\n",
    "Objective: Implement the mutation step of a genetic algorithm."
   ]
  },
  {
   "cell_type": "code",
   "execution_count": 22,
   "metadata": {},
   "outputs": [
    {
     "name": "stdout",
     "output_type": "stream",
     "text": [
      "[[0, 1, 1, 1, 0, 0, 0, 1], [1, 1, 1, 1, 0, 0, 1, 0]]\n"
     ]
    }
   ],
   "source": [
    "def mutate(chromosome, mutation_rate):\n",
    "    # mutate the chromosome by randomly flipping bits\n",
    "    # IN:  chromosome, mutation_rate\n",
    "    # OUT: mutated_chromosome\n",
    "    return [1 - gene if random.random() < mutation_rate else gene for gene in chromosome]\n",
    "\n",
    "# your code here\n",
    "\n",
    "# Test the mutation step\n",
    "mutation_rate = 0.1\n",
    "mutated_offspring = [mutate(child, mutation_rate) for child in offspring]\n",
    "print(mutated_offspring)\n"
   ]
  },
  {
   "attachments": {},
   "cell_type": "markdown",
   "metadata": {},
   "source": [
    "Exercise 7: Complete Genetic Algorithm\n",
    "\n",
    "Objective: Combine all the steps of a genetic algorithm to solve a specific problem."
   ]
  },
  {
   "cell_type": "code",
   "execution_count": 25,
   "metadata": {},
   "outputs": [
    {
     "name": "stdout",
     "output_type": "stream",
     "text": [
      "[[1, 1, 1, 1, 1, 0, 1, 0], [1, 0, 0, 1, 0, 0, 1, 0], [1, 0, 1, 0, 0, 0, 1, 1], [1, 1, 1, 1, 1, 1, 0, 1], [0, 1, 1, 1, 1, 1, 1, 0], [1, 0, 1, 1, 1, 0, 0, 1], [1, 1, 1, 1, 1, 1, 0, 0], [1, 0, 1, 1, 1, 0, 1, 0], [1, 0, 0, 1, 1, 1, 1, 0], [1, 1, 0, 1, 1, 1, 1, 0]]\n"
     ]
    }
   ],
   "source": [
    "def genetic_algorithm(population_size, chromosome_length, generations, mutation_rate):\n",
    "    # complete genetic algorithm\n",
    "    # IN:  population_size, chromosome_length, generations, mutation_rate\n",
    "    # OUT: population\n",
    "\n",
    "    population = initialize_population(population_size, chromosome_length)\n",
    "\n",
    "    for _ in range(generations):\n",
    "        # Fitness evaluation\n",
    "        fitness_scores = evaluate_fitness(population)\n",
    "\n",
    "        # Selection\n",
    "        new_population = []\n",
    "        while len(new_population) < population_size:\n",
    "            parents = select_parents(population, fitness_scores)\n",
    "\n",
    "            # Crossover\n",
    "            offspring = crossover(parents)\n",
    "\n",
    "            # Mutation\n",
    "            offspring = [mutate(child, mutation_rate) for child in offspring]\n",
    "\n",
    "            # Add new offspring to the new generation\n",
    "            new_population.extend(offspring[:2])  # Ensure the population size remains constant\n",
    "\n",
    "        # Replace the population with the new generation\n",
    "        population = new_population[:population_size]  # Ensure population does not exceed initial size\n",
    "\n",
    "    return population\n",
    "\n",
    "\n",
    "# Test the complete genetic algorithm\n",
    "population_size = 10\n",
    "chromosome_length = 8\n",
    "generations = 100\n",
    "mutation_rate = 0.1\n",
    "\n",
    "final_population = genetic_algorithm(population_size, chromosome_length, generations, mutation_rate)\n",
    "print(final_population)\n"
   ]
  },
  {
   "attachments": {},
   "cell_type": "markdown",
   "metadata": {},
   "source": [
    "Exercise 8: Extract the result from the final population\n",
    "\n",
    "Objective: Get the best individual from the final population.\n"
   ]
  },
  {
   "cell_type": "code",
   "execution_count": 41,
   "metadata": {},
   "outputs": [
    {
     "data": {
      "text/plain": "[1, 1, 1, 1, 1, 1, 0, 1]"
     },
     "execution_count": 41,
     "metadata": {},
     "output_type": "execute_result"
    }
   ],
   "source": [
    "# determine the best individual from the final population and print it out\n",
    "\n",
    "# your code here\n",
    "fitness_scores = evaluate_fitness(final_population)\n",
    "best_individual = final_population[fitness_scores.index(max(fitness_scores))]\n",
    "best_individual\n"
   ]
  }
 ],
 "metadata": {
  "kernel_info": {
   "name": "python"
  },
  "kernelspec": {
   "display_name": "Python 3 (ipykernel)",
   "language": "python",
   "name": "python3"
  },
  "language_info": {
   "codemirror_mode": {
    "name": "ipython",
    "version": 3
   },
   "file_extension": ".py",
   "mimetype": "text/x-python",
   "name": "python",
   "nbconvert_exporter": "python",
   "pygments_lexer": "ipython3",
   "version": "3.11.7"
  },
  "nteract": {
   "version": "nteract-front-end@1.0.0"
  }
 },
 "nbformat": 4,
 "nbformat_minor": 4
}
