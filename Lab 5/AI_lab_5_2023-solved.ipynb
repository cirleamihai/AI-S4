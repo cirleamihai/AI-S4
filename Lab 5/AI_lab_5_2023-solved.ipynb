{
 "cells": [
  {
   "cell_type": "markdown",
   "id": "b8210b19",
   "metadata": {},
   "source": [
    "## A.I. Assignment 5\n",
    "\n",
    "## Learning Goals\n",
    "\n",
    "By the end of this lab, you should be able to:\n",
    "* Get more familiar with tensors in pytorch \n",
    "* Create a simple multilayer perceptron model with pytorch\n",
    "* Visualise the parameters\n",
    "\n",
    "\n",
    "### Task\n",
    "\n",
    "Build a fully connected feed forward network that adds two bits. Determine the a propper achitecture for this network (what database you use for this problem? how many layers? how many neurons on each layer? what is the activation function? what is the loss function? etc)\n",
    "\n",
    "Create at least 3 such networks and compare their performance (how accurate they are?, how farst they are trained to get at 1 accuracy?)\n",
    "\n",
    "Display for the best one the weights for each layer.\n"
   ]
  },
  {
   "cell_type": "code",
   "execution_count": 1,
   "id": "e3614e5f",
   "metadata": {},
   "outputs": [],
   "source": [
    "import torch\n",
    "import torch.nn as nn\n",
    "import torch.optim as optim"
   ]
  },
  {
   "cell_type": "code",
   "execution_count": 2,
   "id": "5ee7e7d7",
   "metadata": {},
   "outputs": [],
   "source": [
    "class SimpleNet(nn.Module):\n",
    "    def __init__(self, hidden_size):\n",
    "        super(SimpleNet, self).__init__()\n",
    "        self.fc1 = nn.Linear(2, hidden_size)  # Input to hidden layer\n",
    "        self.fc2 = nn.Linear(hidden_size, 2)  # Hidden to output layer\n",
    "\n",
    "    def forward(self, x):\n",
    "        x = torch.relu(self.fc1(x))  # ReLU activation on hidden layer\n",
    "        x = torch.sigmoid(self.fc2(x))  # Sigmoid activation on output layer\n",
    "        return x"
   ]
  },
  {
   "cell_type": "code",
   "execution_count": 4,
   "id": "665ae958",
   "metadata": {},
   "outputs": [],
   "source": [
    "# Create the dataset for bit addition\n",
    "inputs = torch.tensor([[0, 0], [0, 1], [1, 0], [1, 1]], dtype=torch.float32)\n",
    "# The outputs are the binary representations of the sums: 0, 1, 1, 2\n",
    "targets = torch.tensor([[0, 0], [0, 1], [0, 1], [1, 0]], dtype=torch.float32)"
   ]
  },
  {
   "cell_type": "code",
   "execution_count": 6,
   "id": "e26f0d3e",
   "metadata": {},
   "outputs": [
    {
     "name": "stdout",
     "output_type": "stream",
     "text": [
      "tensor([[0., 0.],\n",
      "        [0., 1.],\n",
      "        [1., 0.],\n",
      "        [1., 1.]]) \n",
      " tensor([[0., 0.],\n",
      "        [0., 1.],\n",
      "        [0., 1.],\n",
      "        [1., 0.]])\n"
     ]
    }
   ],
   "source": [
    "print(inputs, '\\n', targets)"
   ]
  },
  {
   "cell_type": "code",
   "execution_count": 8,
   "id": "69d920ed",
   "metadata": {},
   "outputs": [],
   "source": [
    "hidden_sizes = [2, 4, 8]\n",
    "nets = [SimpleNet(h) for h in hidden_sizes]\n",
    "\n",
    "criterions = [nn.BCELoss() for _ in hidden_sizes]\n",
    "optimizers = [optim.SGD(net.parameters(), lr=0.1) for net in nets]"
   ]
  },
  {
   "cell_type": "code",
   "execution_count": 9,
   "id": "cde91f6f",
   "metadata": {},
   "outputs": [
    {
     "name": "stdout",
     "output_type": "stream",
     "text": [
      "Network with 2 hidden neurons, Accuracy: 0.75\n",
      "Network with 4 hidden neurons, Accuracy: 1.0\n",
      "Weights for best network (Hidden Size: 4):\n",
      "Input to Hidden layer weights: tensor([[ 2.7770,  1.7384],\n",
      "        [ 2.9621, -2.9627],\n",
      "        [ 0.0780,  0.4133],\n",
      "        [-2.4697,  2.6182]])\n",
      "Hidden to Output layer weights: tensor([[ 3.4243, -2.2748, -0.4655, -1.3612],\n",
      "        [-1.3613,  3.4848, -0.4568,  3.2856]])\n",
      "Network with 8 hidden neurons, Accuracy: 1.0\n",
      "Weights for best network (Hidden Size: 8):\n",
      "Input to Hidden layer weights: tensor([[ 1.6887,  3.0466],\n",
      "        [ 1.5347, -0.7049],\n",
      "        [-2.2679, -1.6738],\n",
      "        [-0.1763,  0.2534],\n",
      "        [ 0.5267, -0.5622],\n",
      "        [-0.7716, -1.1482],\n",
      "        [ 0.3277, -0.9243],\n",
      "        [-2.9787,  2.9780]])\n",
      "Hidden to Output layer weights: tensor([[ 2.6711e+00, -1.5718e-03, -1.4445e+00,  3.2675e-01,  2.9000e-01,\n",
      "         -2.3540e+00, -1.1211e+00, -1.8241e+00],\n",
      "        [-2.7431e+00,  1.6880e+00, -3.2240e+00, -3.0509e-01,  1.2041e-01,\n",
      "          8.2744e-02,  8.1214e-01,  3.6949e+00]])\n"
     ]
    }
   ],
   "source": [
    "for net, optimizer, criterion in zip(nets, optimizers, criterions):\n",
    "    for epoch in range(1000):  # More epochs for such a simple task\n",
    "        for input, target in zip(inputs, targets):\n",
    "            optimizer.zero_grad()\n",
    "            output = net(input)\n",
    "            loss = criterion(output, target)\n",
    "            loss.backward()\n",
    "            optimizer.step()\n",
    "\n",
    "    # After training, evaluate the accuracy\n",
    "    with torch.no_grad():\n",
    "        predictions = net(inputs)  # Get predictions for all inputs\n",
    "        predicted_classes = predictions.round()  # Round to get binary results\n",
    "        correct = (predicted_classes == targets).all(axis=1).sum().item()  # Count correct predictions\n",
    "        accuracy = correct / len(targets)\n",
    "        print(f'Network with {net.fc1.out_features} hidden neurons, Accuracy: {accuracy}')\n",
    "\n",
    "    # If this network is the best, print the weights\n",
    "    if accuracy == 1:\n",
    "        print(f'Weights for best network (Hidden Size: {net.fc1.out_features}):')\n",
    "        print('Input to Hidden layer weights:', net.fc1.weight.data)\n",
    "        print('Hidden to Output layer weights:', net.fc2.weight.data)"
   ]
  }
 ],
 "metadata": {
  "kernelspec": {
   "display_name": "Python 3 (ipykernel)",
   "language": "python",
   "name": "python3"
  },
  "language_info": {
   "codemirror_mode": {
    "name": "ipython",
    "version": 3
   },
   "file_extension": ".py",
   "mimetype": "text/x-python",
   "name": "python",
   "nbconvert_exporter": "python",
   "pygments_lexer": "ipython3",
   "version": "3.11.7"
  }
 },
 "nbformat": 4,
 "nbformat_minor": 5
}
