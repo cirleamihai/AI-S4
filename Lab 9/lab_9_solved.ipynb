{
 "cells": [
  {
   "attachments": {},
   "cell_type": "markdown",
   "metadata": {},
   "source": [
    "## Lab. 12\n",
    "\n",
    "### Solve the following problem using Genetic Algorithms:\n",
    "\n",
    "\n",
    "Problem: Weighted N-Queen Problem\n",
    "\n",
    "\n",
    "You are given an N×N chessboard, and each cell of the board has an associated weight. Your task is to find a valid placement of N queens such that the total weight of the queens is maximized, and no two queens threaten each other.\n",
    "\n"
   ]
  },
  {
   "attachments": {},
   "cell_type": "markdown",
   "metadata": {},
   "source": [
    "\n",
    "\n",
    "In the traditional N-Queen Problem, the goal is to place N queens on an N×N chessboard in such a way that no two queens threaten each other. In this variation, we introduce weights to the queens and aim to find a placement that maximizes the total weight of the queens while satisfying the constraint of non-threatening positions.\n",
    "\n",
    "\n",
    "Constraints:\n",
    "\n",
    "1. There should be exactly one queen in each row and each column.\n",
    "2. No two queens should be placed in the same diagonal, i.e., they should not threaten each other.\n",
    "3. The placement should maximize the total weight of the queens.\n",
    "\n",
    "\n",
    "Representation:\n",
    "\n",
    "Use a permutation-based representation. Each permutation represents the column position of the queen for each row. \n",
    "\n",
    "For example, if N=4, a valid permutation [2, 4, 1, 3] indicates that the queen in the first row is placed in column 2, the queen in the second row is placed in column 4, and so on.\n",
    "\n",
    "\n",
    "Genetic Algorithm Steps:\n",
    "\n",
    "1. *Initialization*: Generate an initial population of permutations randomly.\n",
    "\n",
    "2. *Fitness Evaluation*: Evaluate the fitness of each permutation by calculating the total weight of the queens while considering the non-threatening positions.\n",
    "\n",
    "3. *Selection*: Select a subset of permutations from the population based on their fitness, using selection techniques like tournament selection or roulette wheel selection.\n",
    "\n",
    "4. *Crossover*: Perform crossover (recombination) on the selected permutations to create new offspring permutations.\n",
    "\n",
    "5. *Mutation*: Introduce random changes (mutations) in the offspring permutations to maintain diversity in the population.\n",
    "\n",
    "6. *Fitness Evaluation for the new individuals*: Evaluate the fitness of the new population.\n",
    "\n",
    "7. *Form the new population*: Select the surviving individuals based on scores, with chances direct proportional with their performance.\n",
    "\n",
    "8. Repeat steps 3-7 for a certain number of generations or until a termination condition is met (e.g., a maximum number of iterations or a satisfactory solution is found).\n",
    "\n",
    "\n",
    "9. *Termination*: Return the best-performing individual (permutation) found as the solution to the problem.\n",
    "\n",
    "Note: The fitness function used in this problem should calculate the total weight of the queens based on the positions specified by the permutation. Additionally, the fitness function should penalize solutions that violate the non-threatening constraint by assigning a lower fitness score to such permutations."
   ]
  },
  {
   "cell_type": "code",
   "execution_count": 60,
   "metadata": {
    "collapsed": false,
    "jupyter": {
     "outputs_hidden": false
    }
   },
   "outputs": [],
   "source": [
    "from random import randint, random, sample\n",
    "import numpy as np\n",
    "\n",
    "\n",
    "# Create the individual function\n",
    "def individual(N):\n",
    "    \"\"\"\n",
    "    Create a member of the population\n",
    "    :param N: the number of queens on the N x N board\n",
    "    :return: the sampled permutation\n",
    "    \"\"\"\n",
    "    return sample(range(1, N + 1), N)\n"
   ]
  },
  {
   "cell_type": "code",
   "execution_count": 61,
   "metadata": {
    "collapsed": false,
    "jupyter": {
     "outputs_hidden": false
    }
   },
   "outputs": [],
   "source": [
    "# Create the Population function\n",
    "def populate(N, count):\n",
    "    return [individual(N) for _ in range(count)]\n"
   ]
  },
  {
   "cell_type": "code",
   "execution_count": 62,
   "metadata": {
    "collapsed": false,
    "jupyter": {
     "outputs_hidden": false
    }
   },
   "outputs": [],
   "source": [
    "# Return the sum of the weighted positions and see which one fits better\n",
    "def fitness_evaluation(weighted_board, population):\n",
    "    fitness_scores = []\n",
    "    for specific_set in population:\n",
    "        if filter_queen_sample(specific_set, len(specific_set)):\n",
    "            fitness_scores.append(sum(weighted_board[index, queen - 1] for index, queen in enumerate(specific_set)))\n",
    "        else:\n",
    "            fitness_scores.append(0)  # Penalize invalid solutions\n",
    "    return fitness_scores\n"
   ]
  },
  {
   "cell_type": "code",
   "execution_count": 63,
   "metadata": {
    "collapsed": false,
    "jupyter": {
     "outputs_hidden": false
    }
   },
   "outputs": [],
   "source": [
    "def filter_queen_sample(rand_sample, N):\n",
    "    bad_position = []\n",
    "    for row_index, queen_position in enumerate(rand_sample, 1):\n",
    "        if (row_index, queen_position) in bad_position:\n",
    "            return False\n",
    "        i = 1\n",
    "        while row_index + i <= N:\n",
    "            bad_position.extend([(row_index + i, queen_position + i), (row_index + i, queen_position - i)])\n",
    "            i += 1\n",
    "\n",
    "    # Checks to see if the sample contains unique items or not\n",
    "    return len(rand_sample) == len(set(rand_sample))"
   ]
  },
  {
   "cell_type": "code",
   "execution_count": 64,
   "outputs": [],
   "source": [
    "def tournament_selection(population, fitness_scores, k=3):\n",
    "    selected = []\n",
    "    for _ in range(len(population)):\n",
    "        tournament = sample(list(zip(population, fitness_scores)), k)\n",
    "        selected.append(max(tournament, key=lambda x: x[1])[0])\n",
    "    return selected\n"
   ],
   "metadata": {
    "collapsed": false
   }
  },
  {
   "cell_type": "code",
   "execution_count": 65,
   "outputs": [],
   "source": [
    "def crossover(parent1, parent2):\n",
    "    point = randint(1, len(parent1) - 1)\n",
    "    child1 = parent1[:point] + parent2[point:]\n",
    "    child2 = parent2[:point] + parent1[point:]\n",
    "    return child1, child2\n",
    "\n",
    "def mutate(individual):\n",
    "    point1, point2 = sample(range(len(individual)), 2)\n",
    "    individual[point1], individual[point2] = individual[point2], individual[point1]\n",
    "    return individual"
   ],
   "metadata": {
    "collapsed": false
   }
  },
  {
   "cell_type": "code",
   "execution_count": 66,
   "outputs": [
    {
     "name": "stdout",
     "output_type": "stream",
     "text": [
      "Best individual: [4, 7, 5, 2, 6, 1, 3, 8]\n",
      "Best fitness: 4.90576381294367\n"
     ]
    }
   ],
   "source": [
    "def genetic_algorithm(N, weighted_board, population_size=100, generations=1000, crossover_rate=0.8, mutation_rate=0.1):\n",
    "    population = populate(N, population_size)\n",
    "    best_individual = None\n",
    "    max_fitness = -float('inf')\n",
    "\n",
    "    for generation in range(generations):\n",
    "        fitness_score = fitness_evaluation(weighted_board, population)\n",
    "\n",
    "        # Look for the best solution\n",
    "        current_best_fitness = max(fitness_score)\n",
    "        if current_best_fitness > max_fitness:\n",
    "            max_fitness = current_best_fitness\n",
    "            best_individual = population[fitness_score.index(current_best_fitness)]\n",
    "\n",
    "        selected_population = tournament_selection(population, fitness_score)\n",
    "        next_generation = []\n",
    "\n",
    "        for i in range(0, len(selected_population), 2):\n",
    "            parent1 = selected_population[i]\n",
    "            parent2 = selected_population[min(i + 1, len(selected_population) - 1)]\n",
    "            if random() < crossover_rate:\n",
    "                child1, child2 = crossover(parent1, parent2)\n",
    "                next_generation.extend([child1, child2])\n",
    "            else:\n",
    "                next_generation.extend([parent1, parent2])\n",
    "\n",
    "        # Mutation\n",
    "        next_generation = [mutate(current_individual) if random() < mutation_rate else current_individual for current_individual in next_generation]\n",
    "\n",
    "        population.clear()\n",
    "        for next_sample in next_generation:\n",
    "            if filter_queen_sample(next_sample, N):\n",
    "                population.append(next_sample)\n",
    "\n",
    "        # We extend the population with the remaining samples until we meat our goal\n",
    "        population.extend(populate(N, population_size - len(population)))\n",
    "\n",
    "    return best_individual, max_fitness\n",
    "\n",
    "\n",
    "# Example usage\n",
    "N = 8\n",
    "weighted_board = np.random.rand(N, N)  # Example weighted board\n",
    "best_individual, best_fitness = genetic_algorithm(N, weighted_board)\n",
    "print(f\"Best individual: {best_individual}\")\n",
    "print(f\"Best fitness: {best_fitness}\")"
   ],
   "metadata": {
    "collapsed": false
   }
  }
 ],
 "metadata": {
  "kernel_info": {
   "name": "python"
  },
  "kernelspec": {
   "display_name": "Python 3 (ipykernel)",
   "language": "python",
   "name": "python3"
  },
  "language_info": {
   "codemirror_mode": {
    "name": "ipython",
    "version": 3
   },
   "file_extension": ".py",
   "mimetype": "text/x-python",
   "name": "python",
   "nbconvert_exporter": "python",
   "pygments_lexer": "ipython3",
   "version": "3.11.7"
  },
  "nteract": {
   "version": "nteract-front-end@1.0.0"
  }
 },
 "nbformat": 4,
 "nbformat_minor": 4
}
